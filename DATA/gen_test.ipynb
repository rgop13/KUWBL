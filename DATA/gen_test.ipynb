{
 "cells": [
  {
   "cell_type": "code",
   "execution_count": null,
   "id": "9b4a498d",
   "metadata": {},
   "outputs": [],
   "source": [
    "import openai\n",
    "host = \"http://127.0.0.1:8000/v1\"\n",
    "client = openai.OpenAI(base_url=host, api_key=\"EMPTY\")"
   ]
  },
  {
   "cell_type": "code",
   "execution_count": null,
   "id": "d3bb2f2c",
   "metadata": {},
   "outputs": [],
   "source": [
    "model_name = \"deepseek-ai/DeepSeek-V3.1\"\n",
    "messages = [\n",
    "    {\"role\": \"system\", \"content\": \"You are a helpful assistant.\"},\n",
    "    {\"role\": \"user\", \"content\": \"What is the capital of the moon?\"},\n",
    "]\n",
    "extra_body = {\"chat_template_kwargs\": {\"thinking\": True}}\n",
    "response = client.chat.completions.create(\n",
    "    model=model_name,\n",
    "    messages=messages,\n",
    "    # extra_body=extra_body,\n",
    ")\n",
    "print(response.choices[0].message)"
   ]
  }
 ],
 "metadata": {
  "kernelspec": {
   "display_name": "embed-pt",
   "language": "python",
   "name": "python3"
  },
  "language_info": {
   "codemirror_mode": {
    "name": "ipython",
    "version": 3
   },
   "file_extension": ".py",
   "mimetype": "text/x-python",
   "name": "python",
   "nbconvert_exporter": "python",
   "pygments_lexer": "ipython3",
   "version": "3.10.14"
  }
 },
 "nbformat": 4,
 "nbformat_minor": 5
}
