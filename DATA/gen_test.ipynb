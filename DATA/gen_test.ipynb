{
 "cells": [
  {
   "cell_type": "code",
   "execution_count": null,
   "id": "9b4a498d",
   "metadata": {},
   "outputs": [],
   "source": [
    "import openai\n",
    "host = \"http://127.0.0.1:8000/v1\"\n",
    "client = openai.OpenAI(base_url=host, api_key=\"EMPTY\")"
   ]
  },
  {
   "cell_type": "code",
   "execution_count": null,
   "id": "d3bb2f2c",
   "metadata": {},
   "outputs": [],
   "source": [
    "model_name = \"deepseek-ai/DeepSeek-V3.1\"\n",
    "messages = [\n",
    "    {\"role\": \"system\", \"content\": \"You are a helpful assistant.\"},\n",
    "    {\"role\": \"user\", \"content\": \"What is the capital of the moon?\"},\n",
    "]\n",
    "extra_body = {\"chat_template_kwargs\": {\"thinking\": True}}\n",
    "response = client.chat.completions.create(\n",
    "    model=model_name,\n",
    "    messages=messages,\n",
    "    # extra_body=extra_body,\n",
    ")\n",
    "print(response.choices[0].message)"
   ]
  },
  {
   "cell_type": "markdown",
   "id": "fe98b35d",
   "metadata": {},
   "source": [
    "# DeepSeek-V3.1 API"
   ]
  },
  {
   "cell_type": "code",
   "execution_count": 1,
   "id": "ddda5973",
   "metadata": {},
   "outputs": [],
   "source": [
    "from together import Together\n",
    "with open(\"secret/deepseek.key\", \"r\") as f:\n",
    "    api_key = f.read().strip()\n",
    "client = Together(api_key=api_key)"
   ]
  },
  {
   "cell_type": "code",
   "execution_count": null,
   "id": "333b4802",
   "metadata": {},
   "outputs": [
    {
     "name": "stdout",
     "output_type": "stream",
     "text": [
      "Reasoning:\n",
      "========================================================================================================================================================================================================\n",
      "We are asked: \"Explain how the general argument for the existence of free functors can be applied to the categories of Boolean algebras and Heyting algebras. Explain as many as possible.\"\n",
      "\n",
      "Interpretation: There is a \"general argument\" for the existence of free functors. Possibly it is the adjoint functor theorem? Possibly it's the fact that if a category is algebraic (variety of algebras) then free algebras exist. But then: \"Explain how the general argument for the existence of free functors can be applied to the categories of Boolean algebras and Heyting algebras.\" Possibly: Both Boolean algebras and Heyting algebras are varieties of algebras. They are defined by equational theories. So free algebras exist. But then: \"Explain as many as possible.\" Possibly: There is a general argument: If a category is a variety of algebras (i.e., defined by identities) then the forgetful functor to Set has a left adjoint. That is the free functor. So then: Boolean algebras: They are algebras with operations: ∧, ∨, ¬, 0, 1. And identities: commutative, associative, distributive, absorption, complement laws. So it's an equational theory. So free Boolean algebra on a set X exists. Similarly, Heyting algebras: They are algebras with operations: ∧, ∨, →, 0, 1. And identities: lattice axioms plus axioms for implication. They are also equational. So free Heyting algebra on a set X exists.\n",
      "\n",
      "But maybe there is more: \"the general argument\" might refer to the Adjoint Functor Theorem. That is: If the category is complete and well-powered and has a cogenerator, then the forgetful functor, being continuous, has a left adjoint. But then we need to check that Boolean algebras and Heyting algebras are complete, well-powered, and have a cogenerator. That might be another approach.\n",
      "\n",
      "Alternatively: \"the general argument\" might be: Free algebras are constructed as term algebras modulo the identities. So the free Boolean algebra on n generators is the algebra of equivalence classes of Boolean terms. But then there is a known structure: The free Boolean algebra on n generators is isomorphic to the power set of the set of all subsets of a set of size n? Actually, free Boolean algebra on n generators is isomorphic to the algebra of all subsets of a set of size 2^n? Actually, free Boolean algebra on n generators has 2^(2^n) elements. And free Heyting algebra on n generators is more complicated.\n",
      "\n",
      "Maybe the question is: \"Explain how the general argument for the existence of free functors can be applied to the categories of Boolean algebras and Heyting algebras.\" Possibly it's about the fact that these categories are algebraic categories (varieties) and hence are monadic over Set. And then the free functor is the left adjoint to the forgetful functor. So the argument: The forgetful functor from Boolean algebras to Set preserves limits and filtered colimits, and the categories are locally presentable? Alternatively, use the Adjoint Functor Theorem: The forgetful functor from Boolean algebras to Set is continuous (preserves limits) and the category of Boolean algebras is complete and well-powered? But is it well-powered? The category of Boolean algebras: Every Boolean algebra is a subalgebra of a power set algebra, so they are sets of subsets? Actually, careful: The category of Boolean algebras is not well-powered? Actually, it is well-powered because homomorphisms are determined by their action on the generators? Actually, well-powered means that for each object, the class of subobjects is a set. In varieties of algebras, subalgebras are subsets closed under operations, so they are sets. So it is well-powered. And does it have a cogenerator? For Boolean algebras, the two-element Boolean algebra is a cogenerator? Actually, in Boolean algebras, the two-element Boolean algebra is a cogenerator because every Boolean algebra embeds into a product of copies of the two-element Boolean algebra (Stone representation). So then by the Special Adjoint Functor Theorem, the forgetful functor has a left adjoint. Similarly, for Heyting algebras, the forgetful functor to Set is continuous? But Heyting algebras are not necessarily complete? Actually, Heyting algebras are algebras defined by equations, so they are varieties. So they are complete and cocomplete. And they are well-powered? Possibly yes. And do they have a cogenerator? There is a representation theorem for Heyting algebras? Actually, Heyting algebras are distributive lattices with implication. There is a representation theorem: Every Heyting algebra can be embedded into a complete Heyting algebra of open sets of a topological space. But that doesn't give a cogenerator in the category of Heyting algebras. However, the category of Heyting algebras is an algebraic category, so it is monadic over Set. And monadic functors have left adjoints. So the free functor exists.\n",
      "\n",
      "Maybe the \"general argument\" is: If a category is a variety of algebras (i.e., defined by identities), then the forgetful functor to Set has a left adjoint. This is because the category is monadic over Set. And one construction is: The free algebra on a set X is the set of terms modulo the identities.\n",
      "\n",
      "So I'll explain: Both Boolean algebras and Heyting algebras are varieties of algebras. That is, they are defined by operations and equations. For Boolean algebras, the operations are: ∧, ∨, ¬, 0, 1. The equations are: the lattice axioms (commutativity, associativity, absorption, etc.), distributivity, and the complement laws: x ∧ ¬x = 0, x ∨ ¬x = 1. For Heyting algebras, the operations are: ∧, ∨, →, 0, 1. The equations are: the lattice axioms, and the axioms for implication: x → x = 1, x ∧ (x → y) = x ∧ y, y ∧ (x → y) = y, and (x → (y ∧ z)) = (x → y) ∧ (x → z) (or equivalent ones). So these are equational theories. In general, for any variety of algebras, the forgetful functor to Set has a left adjoint, which is the free algebra functor. The construction is: Given a set X, take the set of all terms built from the operations and elements of X. Then quotient by the smallest congruence that makes all the identities hold. This yields the free algebra on X.\n",
      "\n",
      "So the answer: Since Boolean algebras and Heyting algebras are varieties (equational classes), the forgetful functors from these categories to Set have left adjoints, which are the free functors. Thus, free Boolean algebras and free Heyting algebras exist.\n",
      "\n",
      "I'll also mention: The free Boolean algebra on n generators is finite (of size 2^(2^n)), while the free Heyting algebra on n generators is infinite for n ≥ 1.\n",
      "\n",
      "That might be it.\n",
      "\n",
      "I'll answer: \\boxed{\\text{Free functors exist because these categories are varieties of algebras.}}\n",
      "========================================================================================================================================================================================================\n",
      "Content:\n",
      "========================================================================================================================================================================================================\n",
      "### Step 1. Understanding Free Functors\n",
      "\n",
      "A **free functor** is a left adjoint to a **forgetful functor**. If \\( U: \\mathcal{C} \\to \\mathbf{Set} \\) is a functor that “forgets” the algebraic structure, then a free functor \\( F: \\mathbf{Set} \\to \\mathcal{C} \\) assigns to each set \\( X \\) an object \\( F(X) \\in \\mathcal{C} \\) such that for any object \\( A \\in \\mathcal{C} \\), there is a natural bijection:\n",
      "\n",
      "\\[\n",
      "\\text{Hom}_{\\mathcal{C}}(F(X), A) \\cong \\text{Hom}_{\\mathbf{Set}}(X, U(A))\n",
      "\\]\n",
      "\n",
      "This means that morphisms from the free object \\( F(X) \\) to \\( A \\) correspond to functions from \\( X \\) to the underlying set of \\( A \\).\n",
      "\n",
      "---\n",
      "\n",
      "### Step 2. The General Argument: Varieties of Algebras\n",
      "\n",
      "A **variety of algebras** is a class of algebraic structures defined by a set of operations and identities (equations). Examples include groups, rings, lattices, etc.\n",
      "\n",
      "A key fact is:\n",
      "\n",
      "> If \\( \\mathcal{C} \\) is a variety of algebras, then the forgetful functor \\( U: \\mathcal{C} \\to \\mathbf{Set} \\) has a left adjoint — the **free functor** \\( F \\).\n",
      "\n",
      "This follows from the fact that varieties are **monadic** over \\( \\mathbf{Set} \\), and monadic functors always have left adjoints.\n",
      "\n",
      "**Construction of the free algebra** on a set \\( X \\):\n",
      "\n",
      "- Form the set \\( T(X) \\) of all **terms** built from the operations and elements of \\( X \\).\n",
      "- Impose the smallest congruence relation \\( \\sim \\) that satisfies all the defining identities.\n",
      "- The quotient \\( T(X)/{\\sim} \\) is the free algebra on \\( X \\).\n",
      "\n",
      "---\n",
      "\n",
      "### Step 3. Application to Boolean Algebras\n",
      "\n",
      "A **Boolean algebra** is an algebraic structure with operations:\n",
      "\n",
      "- \\( \\land \\) (meet), \\( \\lor \\) (join), \\( \\neg \\) (complement)\n",
      "- Constants: \\( 0 \\), \\( 1 \\)\n",
      "\n",
      "Satisfying identities such as:\n",
      "\n",
      "- Commutativity, associativity, distributivity\n",
      "- \\( x \\land \\neg x = 0 \\), \\( x \\lor \\neg x = 1 \\)\n",
      "\n",
      "✅ The category of Boolean algebras is a **variety**.\n",
      "\n",
      "Thus, the forgetful functor \\( U: \\mathbf{Bool} \\to \\mathbf{Set} \\) has a left adjoint — the **free Boolean algebra functor**.\n",
      "\n",
      "For example, the free Boolean algebra on \\( n \\) generators is finite and\n",
      "========================================================================================================================================================================================================\n",
      "FinishReason.Length\n"
     ]
    }
   ],
   "source": [
    "model_name = \"deepseek-ai/DeepSeek-V3.1\"\n",
    "messages = [\n",
    "    # {\"role\": \"system\", \"content\": \"You are a helpful assistant.\"},\n",
    "    {\"role\": \"user\", \"content\": \"Explain how the general argument for the existence of free functors can be applied to the categories of Boolean algebras and Heyting algebras. Explain as many as possible.\"},\n",
    "]\n",
    "response = client.chat.completions.create(\n",
    "    model=model_name,\n",
    "    messages=messages,\n",
    "    chat_template_kwargs={\"thinking\": True},\n",
    "    stream=False,\n",
    "    max_tokens=32768,\n",
    "    temperature=0.0,\n",
    "    # top_p=0.0,\n",
    "    # stop=\n",
    "    # extra_body=extra_body,\n",
    ")\n",
    "print(\"Reasoning:\")\n",
    "print(\"=\"*200)\n",
    "print(response.choices[0].message.reasoning)\n",
    "print(\"=\"*200)\n",
    "print(\"Content:\")\n",
    "print(\"=\"*200)\n",
    "print(response.choices[0].message.content)\n",
    "print(\"=\"*200)\n",
    "print(response.choices[0].finish_reason)"
   ]
  },
  {
   "cell_type": "code",
   "execution_count": 24,
   "id": "acfb33c5",
   "metadata": {},
   "outputs": [
    {
     "data": {
      "text/plain": [
       "<FinishReason.StopSequence: 'stop'>"
      ]
     },
     "execution_count": 24,
     "metadata": {},
     "output_type": "execute_result"
    }
   ],
   "source": [
    "response.choices[0].finish_reason"
   ]
  },
  {
   "cell_type": "code",
   "execution_count": 12,
   "id": "b3af4b35",
   "metadata": {},
   "outputs": [
    {
     "data": {
      "text/plain": [
       "'The Moon does not have a capital, as it is a natural satellite of Earth and not a sovereign political entity. However, the historic landing site of Apollo 11, known as *Tranquility Base*, is sometimes informally referenced in discussions about human activity on the Moon.'"
      ]
     },
     "execution_count": 12,
     "metadata": {},
     "output_type": "execute_result"
    }
   ],
   "source": [
    "response.choices[0].message.content"
   ]
  },
  {
   "cell_type": "code",
   "execution_count": null,
   "id": "e34da527",
   "metadata": {},
   "outputs": [
    {
     "data": {
      "text/plain": [
       "\"Hmm, the user is asking about the capital of the Moon. This is a trick question because the Moon doesn't have countries or capitals like Earth does. \\n\\nI should clarify that the Moon is a natural satellite, not a political entity, so it doesn't have a capital. But to be helpful, I can mention the historic Apollo 11 landing site as the closest thing to a significant human-established location. \\n\\nI’ll keep it concise and factual, avoiding unnecessary details. The tone should be light but informative, since the question seems playful.\""
      ]
     },
     "execution_count": 14,
     "metadata": {},
     "output_type": "execute_result"
    }
   ],
   "source": [
    "response.choices[0].message.reasoning"
   ]
  },
  {
   "cell_type": "markdown",
   "id": "a727dff2",
   "metadata": {},
   "source": [
    "# Qwen3"
   ]
  },
  {
   "cell_type": "code",
   "execution_count": null,
   "id": "d4f69d75",
   "metadata": {},
   "outputs": [],
   "source": [
    "import openai\n",
    "host = \"http://127.0.0.1:8000/v1\"\n",
    "client = openai.OpenAI(base_url=host, api_key=\"EMPTY\")"
   ]
  },
  {
   "cell_type": "code",
   "execution_count": null,
   "id": "0a601642",
   "metadata": {},
   "outputs": [],
   "source": []
  },
  {
   "cell_type": "code",
   "execution_count": null,
   "id": "d2dfd64d",
   "metadata": {},
   "outputs": [],
   "source": [
    "model_name = \"qwen/Qwen3-235B-A22B-Thinking-2507\"\n",
    "messages = [\n",
    "    {\"role\": \"system\", \"content\": \"You are a helpful assistant.\"},\n",
    "    {\"role\": \"user\", \"content\": \"What is the capital of the moon?\"},\n",
    "]\n",
    "# extra_body = {\"chat_template_kwargs\": {\"thinking\": True}}\n",
    "response = client.chat.completions.create(\n",
    "    model=model_name,\n",
    "    messages=messages,\n",
    "    # extra_body=extra_body,\n",
    ")\n",
    "print(response.choices[0].message)"
   ]
  },
  {
   "cell_type": "code",
   "execution_count": null,
   "id": "3afc5dd9",
   "metadata": {},
   "outputs": [],
   "source": [
    "# Check available models\n",
    "import openai\n",
    "host = \"http://127.0.0.1:8000/v1\"\n",
    "client = openai.OpenAI(base_url=host, api_key=\"EMPTY\")\n",
    "\n",
    "# List all available models\n",
    "models = client.models.list()\n",
    "print(\"Available models:\")\n",
    "for model in models.data:\n",
    "    print(f\"  - {model.id}\")\n",
    "    print(f\"    Created: {model.created}\")\n",
    "    print(f\"    Owned by: {model.owned_by}\")\n",
    "    print(\"---\")\n"
   ]
  },
  {
   "cell_type": "code",
   "execution_count": null,
   "id": "eb39bd65",
   "metadata": {},
   "outputs": [],
   "source": [
    "# Get details of a specific model\n",
    "model_id = \"deepseek-ai/DeepSeek-V3.1\"  # or \"qwen/Qwen3-235B-A22B-Thinking-2507\"\n",
    "\n",
    "try:\n",
    "    model_info = client.models.retrieve(model_id)\n",
    "    print(f\"Model ID: {model_info.id}\")\n",
    "    print(f\"Object type: {model_info.object}\")\n",
    "    print(f\"Created: {model_info.created}\")\n",
    "    print(f\"Owned by: {model_info.owned_by}\")\n",
    "except Exception as e:\n",
    "    print(f\"Error retrieving model {model_id}: {e}\")\n"
   ]
  },
  {
   "cell_type": "code",
   "execution_count": null,
   "id": "3ffbfd92",
   "metadata": {},
   "outputs": [],
   "source": [
    "# Check Ray Serve applications and deployments\n",
    "import requests\n",
    "\n",
    "# Ray dashboard API (if accessible)\n",
    "dashboard_url = \"http://127.0.0.1:8265\"\n",
    "\n",
    "try:\n",
    "    # Check cluster status\n",
    "    response = requests.get(f\"{dashboard_url}/api/cluster_status\")\n",
    "    if response.status_code == 200:\n",
    "        cluster_info = response.json()\n",
    "        print(\"Cluster Status:\", cluster_info.get(\"result\", \"Unknown\"))\n",
    "    \n",
    "    # Check serve applications\n",
    "    response = requests.get(f\"{dashboard_url}/api/serve/applications\")\n",
    "    if response.status_code == 200:\n",
    "        apps = response.json()\n",
    "        print(\"\\nServe Applications:\")\n",
    "        for app_name, app_info in apps.items():\n",
    "            print(f\"  - {app_name}: {app_info.get('status', 'Unknown')}\")\n",
    "            \n",
    "except requests.exceptions.RequestException as e:\n",
    "    print(f\"Could not connect to Ray dashboard: {e}\")\n",
    "    print(\"Make sure Ray head is running and dashboard is accessible\")\n"
   ]
  },
  {
   "cell_type": "code",
   "execution_count": null,
   "id": "88a1a33b",
   "metadata": {},
   "outputs": [],
   "source": [
    "# Health check for the model server\n",
    "import requests\n",
    "import json\n",
    "\n",
    "def check_server_health():\n",
    "    base_url = \"http://127.0.0.1:8000\"\n",
    "    \n",
    "    # Check if server is responding\n",
    "    try:\n",
    "        response = requests.get(f\"{base_url}/health\", timeout=5)\n",
    "        print(f\"Server health: {response.status_code}\")\n",
    "        if response.status_code == 200:\n",
    "            print(\"✅ Server is healthy\")\n",
    "        else:\n",
    "            print(\"❌ Server health check failed\")\n",
    "    except requests.exceptions.RequestException as e:\n",
    "        print(f\"❌ Cannot reach server: {e}\")\n",
    "    \n",
    "    # Check OpenAI compatibility\n",
    "    try:\n",
    "        response = requests.get(f\"{base_url}/v1/models\", timeout=10)\n",
    "        if response.status_code == 200:\n",
    "            models_data = response.json()\n",
    "            print(f\"\\n✅ OpenAI API endpoint working\")\n",
    "            print(f\"Found {len(models_data.get('data', []))} models\")\n",
    "        else:\n",
    "            print(f\"❌ OpenAI API endpoint error: {response.status_code}\")\n",
    "    except requests.exceptions.RequestException as e:\n",
    "        print(f\"❌ OpenAI API endpoint unreachable: {e}\")\n",
    "\n",
    "check_server_health()\n"
   ]
  }
 ],
 "metadata": {
  "kernelspec": {
   "display_name": "embed-pt",
   "language": "python",
   "name": "python3"
  },
  "language_info": {
   "codemirror_mode": {
    "name": "ipython",
    "version": 3
   },
   "file_extension": ".py",
   "mimetype": "text/x-python",
   "name": "python",
   "nbconvert_exporter": "python",
   "pygments_lexer": "ipython3",
   "version": "3.10.14"
  }
 },
 "nbformat": 4,
 "nbformat_minor": 5
}
